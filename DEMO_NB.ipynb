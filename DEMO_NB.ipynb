{
 "cells": [
  {
   "cell_type": "markdown",
   "id": "acceptable-lodging",
   "metadata": {},
   "source": [
    "# Demo"
   ]
  },
  {
   "cell_type": "code",
   "execution_count": 1,
   "id": "exceptional-roads",
   "metadata": {
    "ExecuteTime": {
     "end_time": "2021-06-10T06:36:42.954354Z",
     "start_time": "2021-06-10T06:36:41.469405Z"
    }
   },
   "outputs": [
    {
     "data": {
      "text/plain": [
       "140334165174448"
      ]
     },
     "execution_count": 1,
     "metadata": {},
     "output_type": "execute_result"
    }
   ],
   "source": [
    "import lux\n",
    "from vega_datasets import data\n",
    "import numpy as np\n",
    "import pandas as pd\n",
    "from IPython.core.debugger import set_trace\n",
    "\n",
    "lux.config.default_display = \"lux\"\n",
    "\n",
    "df = data.cars()\n",
    "id(df)"
   ]
  },
  {
   "cell_type": "code",
   "execution_count": null,
   "id": "d5cceae7-304c-4ac7-b95b-7fea9a705532",
   "metadata": {},
   "outputs": [],
   "source": []
  },
  {
   "cell_type": "code",
   "execution_count": 12,
   "id": "15ea47ef-00cc-4816-9c06-965cd867f677",
   "metadata": {},
   "outputs": [],
   "source": [
    "df = data.cars()\n",
    "t = df.loc[:, [\"Origin\", \"Miles_per_Gallon\"]]"
   ]
  },
  {
   "cell_type": "code",
   "execution_count": 13,
   "id": "alive-freeze",
   "metadata": {
    "ExecuteTime": {
     "end_time": "2021-06-10T06:37:37.501082Z",
     "start_time": "2021-06-10T06:36:47.735611Z"
    }
   },
   "outputs": [
    {
     "data": {
      "text/plain": [
       "[\n",
       "<Event (id: 140333091074160) @[12]: \u001b[1mloc\u001b[0m, cols=['Miles_per_Gallon', 'Origin'], args=(), kwargs=dict_keys(['rank_type', 'child_df'])> with weight 1.0\n",
       "]"
      ]
     },
     "execution_count": 13,
     "metadata": {},
     "output_type": "execute_result"
    }
   ],
   "source": [
    "t.history"
   ]
  },
  {
   "cell_type": "code",
   "execution_count": 14,
   "id": "8b34cb46-8e14-4d5e-9420-3279ad6a1cfd",
   "metadata": {},
   "outputs": [
    {
     "name": "stderr",
     "output_type": "stream",
     "text": [
      "/Users/wepperso/opt/anaconda3/envs/lux_workspace/lib/python3.9/site-packages/IPython/core/formatters.py:918: UserWarning:\n",
      "Unexpected error in rendering Lux widget and recommendations. Falling back to Pandas display.\n",
      "Please report the following issue on Github: https://github.com/lux-org/lux/issues \n",
      "\n",
      "/Users/wepperso/Documents/Research/Projects/Notebook_Vis_Rec_Projects/lux/lux/core/frame.py:695: UserWarning:Traceback (most recent call last):\n",
      "  File \"/Users/wepperso/Documents/Research/Projects/Notebook_Vis_Rec_Projects/lux/lux/core/frame.py\", line 655, in _ipython_display_\n",
      "    self.maintain_recs()\n",
      "  File \"/Users/wepperso/Documents/Research/Projects/Notebook_Vis_Rec_Projects/lux/lux/core/frame.py\", line 475, in maintain_recs\n",
      "    self._widget = self.render_widget()\n",
      "  File \"/Users/wepperso/Documents/Research/Projects/Notebook_Vis_Rec_Projects/lux/lux/core/frame.py\", line 749, in render_widget\n",
      "    implicit_mre_rec, curr_hist_index = implicit_mre(self, self.selectedHistoryIndex)\n",
      "  File \"/Users/wepperso/Documents/Research/Projects/Notebook_Vis_Rec_Projects/lux/lux/action/implicit_tab.py\", line 49, in implicit_mre\n",
      "    lux_vis, used_cols = implicit_plotter.generate_vis_from_signal(most_recent_event, ldf, col_list)\n",
      "  File \"/Users/wepperso/Documents/Research/Projects/Notebook_Vis_Rec_Projects/lux/lux/implicit/implicit_plotter.py\", line 59, in generate_vis_from_signal\n",
      "    vis_list, used_cols = process_filter(signal, ldf, ranked_cols)\n",
      "  File \"/Users/wepperso/Documents/Research/Projects/Notebook_Vis_Rec_Projects/lux/lux/implicit/implicit_plotter.py\", line 214, in process_filter\n",
      "    mask, same_cols = compute_filter_diff(p_df, c_df)\n",
      "  File \"/Users/wepperso/Documents/Research/Projects/Notebook_Vis_Rec_Projects/lux/lux/implicit/implicit_plotter.py\", line 299, in compute_filter_diff\n",
      "    same_cols = list(old_df.columns[old_df.nunique() == filt_df.nunique()])\n",
      "  File \"/Users/wepperso/opt/anaconda3/envs/lux_workspace/lib/python3.9/site-packages/pandas/core/ops/common.py\", line 65, in new_method\n",
      "    return method(self, other)\n",
      "  File \"/Users/wepperso/opt/anaconda3/envs/lux_workspace/lib/python3.9/site-packages/pandas/core/arraylike.py\", line 29, in __eq__\n",
      "    return self._cmp_method(other, operator.eq)\n",
      "  File \"/Users/wepperso/opt/anaconda3/envs/lux_workspace/lib/python3.9/site-packages/pandas/core/series.py\", line 4943, in _cmp_method\n",
      "    raise ValueError(\"Can only compare identically-labeled Series objects\")\n",
      "ValueError: Can only compare identically-labeled Series objects\n",
      "\n"
     ]
    },
    {
     "data": {
      "text/html": [
       "<div>\n",
       "<style scoped>\n",
       "    .dataframe tbody tr th:only-of-type {\n",
       "        vertical-align: middle;\n",
       "    }\n",
       "\n",
       "    .dataframe tbody tr th {\n",
       "        vertical-align: top;\n",
       "    }\n",
       "\n",
       "    .dataframe thead th {\n",
       "        text-align: right;\n",
       "    }\n",
       "</style>\n",
       "<table border=\"1\" class=\"dataframe\">\n",
       "  <thead>\n",
       "    <tr style=\"text-align: right;\">\n",
       "      <th></th>\n",
       "      <th>Origin</th>\n",
       "      <th>Miles_per_Gallon</th>\n",
       "    </tr>\n",
       "  </thead>\n",
       "  <tbody>\n",
       "    <tr>\n",
       "      <th>0</th>\n",
       "      <td>USA</td>\n",
       "      <td>18.0</td>\n",
       "    </tr>\n",
       "    <tr>\n",
       "      <th>1</th>\n",
       "      <td>USA</td>\n",
       "      <td>15.0</td>\n",
       "    </tr>\n",
       "    <tr>\n",
       "      <th>2</th>\n",
       "      <td>USA</td>\n",
       "      <td>18.0</td>\n",
       "    </tr>\n",
       "    <tr>\n",
       "      <th>3</th>\n",
       "      <td>USA</td>\n",
       "      <td>16.0</td>\n",
       "    </tr>\n",
       "    <tr>\n",
       "      <th>4</th>\n",
       "      <td>USA</td>\n",
       "      <td>17.0</td>\n",
       "    </tr>\n",
       "    <tr>\n",
       "      <th>...</th>\n",
       "      <td>...</td>\n",
       "      <td>...</td>\n",
       "    </tr>\n",
       "    <tr>\n",
       "      <th>401</th>\n",
       "      <td>USA</td>\n",
       "      <td>27.0</td>\n",
       "    </tr>\n",
       "    <tr>\n",
       "      <th>402</th>\n",
       "      <td>Europe</td>\n",
       "      <td>44.0</td>\n",
       "    </tr>\n",
       "    <tr>\n",
       "      <th>403</th>\n",
       "      <td>USA</td>\n",
       "      <td>32.0</td>\n",
       "    </tr>\n",
       "    <tr>\n",
       "      <th>404</th>\n",
       "      <td>USA</td>\n",
       "      <td>28.0</td>\n",
       "    </tr>\n",
       "    <tr>\n",
       "      <th>405</th>\n",
       "      <td>USA</td>\n",
       "      <td>31.0</td>\n",
       "    </tr>\n",
       "  </tbody>\n",
       "</table>\n",
       "<p>406 rows × 2 columns</p>\n",
       "</div>"
      ],
      "text/plain": [
       "     Origin  Miles_per_Gallon\n",
       "0       USA              18.0\n",
       "1       USA              15.0\n",
       "2       USA              18.0\n",
       "3       USA              16.0\n",
       "4       USA              17.0\n",
       "..      ...               ...\n",
       "401     USA              27.0\n",
       "402  Europe              44.0\n",
       "403     USA              32.0\n",
       "404     USA              28.0\n",
       "405     USA              31.0\n",
       "\n",
       "[406 rows x 2 columns]"
      ]
     },
     "metadata": {},
     "output_type": "display_data"
    }
   ],
   "source": [
    "t"
   ]
  },
  {
   "cell_type": "code",
   "execution_count": 16,
   "id": "89efec9b-b8ca-44be-9716-af3206d5dd7e",
   "metadata": {},
   "outputs": [
    {
     "data": {
      "application/vnd.jupyter.widget-view+json": {
       "model_id": "52856e1f879b40c5b17892b7a841c5c2",
       "version_major": 2,
       "version_minor": 0
      },
      "text/plain": [
       "Button(description='Toggle Pandas/Lux', layout=Layout(top='5px', width='140px'), style=ButtonStyle())"
      ]
     },
     "metadata": {},
     "output_type": "display_data"
    },
    {
     "data": {
      "application/vnd.jupyter.widget-view+json": {
       "model_id": "f57d403448c441d684f51da6e50f6caa",
       "version_major": 2,
       "version_minor": 0
      },
      "text/plain": [
       "Output()"
      ]
     },
     "metadata": {},
     "output_type": "display_data"
    }
   ],
   "source": [
    "f"
   ]
  },
  {
   "cell_type": "markdown",
   "id": "worthy-netscape",
   "metadata": {},
   "source": [
    "## Column manipulations"
   ]
  },
  {
   "cell_type": "code",
   "execution_count": null,
   "id": "mature-georgia",
   "metadata": {},
   "outputs": [],
   "source": [
    "df[\"Name\"] = df[\"Name\"].map(lambda a:a.split()[0])\n",
    "df[\"new_col\"] = np.random.randint(0, 100, size=len(df))\n"
   ]
  },
  {
   "cell_type": "code",
   "execution_count": null,
   "id": "expressed-facility",
   "metadata": {},
   "outputs": [],
   "source": [
    "df"
   ]
  },
  {
   "cell_type": "markdown",
   "id": "delayed-start",
   "metadata": {},
   "source": [
    "## Describe"
   ]
  },
  {
   "cell_type": "code",
   "execution_count": null,
   "id": "emotional-admission",
   "metadata": {},
   "outputs": [],
   "source": [
    "df.describe()"
   ]
  },
  {
   "cell_type": "markdown",
   "id": "bound-tenant",
   "metadata": {},
   "source": [
    "## Explicit input"
   ]
  },
  {
   "cell_type": "code",
   "execution_count": null,
   "id": "communist-equilibrium",
   "metadata": {},
   "outputs": [],
   "source": [
    "df.intent = [\"Miles_per_Gallon\"]\n",
    "df"
   ]
  },
  {
   "cell_type": "code",
   "execution_count": null,
   "id": "superb-assist",
   "metadata": {},
   "outputs": [],
   "source": [
    "df.intent = [\"Weight_in_lbs\"]\n",
    "df"
   ]
  },
  {
   "cell_type": "code",
   "execution_count": null,
   "id": "norwegian-martin",
   "metadata": {},
   "outputs": [],
   "source": []
  },
  {
   "cell_type": "markdown",
   "id": "talented-romania",
   "metadata": {},
   "source": [
    "## Filters"
   ]
  },
  {
   "cell_type": "code",
   "execution_count": null,
   "id": "abstract-prize",
   "metadata": {},
   "outputs": [],
   "source": [
    "df = data.cars()\n",
    "# id(df)"
   ]
  },
  {
   "cell_type": "code",
   "execution_count": null,
   "id": "comic-square",
   "metadata": {},
   "outputs": [],
   "source": [
    "r = df.Origin.value_counts()\n",
    "r = df.Displacement.value_counts()"
   ]
  },
  {
   "cell_type": "code",
   "execution_count": null,
   "id": "filled-month",
   "metadata": {},
   "outputs": [],
   "source": [
    "df[df.Cylinders > 4]"
   ]
  },
  {
   "cell_type": "code",
   "execution_count": null,
   "id": "responsible-wrestling",
   "metadata": {},
   "outputs": [],
   "source": [
    "df_2 = df[(df.Weight_in_lbs < 2800) & (df.Acceleration > 12)]\n",
    "\n",
    "df_3 = ..."
   ]
  },
  {
   "cell_type": "markdown",
   "id": "physical-perspective",
   "metadata": {},
   "source": [
    "# Groupby"
   ]
  },
  {
   "cell_type": "markdown",
   "id": "rubber-spanish",
   "metadata": {},
   "source": [
    "df aggs"
   ]
  },
  {
   "cell_type": "code",
   "execution_count": null,
   "id": "resistant-invite",
   "metadata": {},
   "outputs": [],
   "source": [
    "df.mean()"
   ]
  },
  {
   "cell_type": "code",
   "execution_count": null,
   "id": "behavioral-mineral",
   "metadata": {},
   "outputs": [],
   "source": [
    "df.groupby(\"Cylinders\").agg({\"Miles_per_Gallon\": \"mean\", \"Horsepower\": \"median\", \"Displacement\": \"min\"})\n",
    "\n"
   ]
  },
  {
   "cell_type": "code",
   "execution_count": null,
   "id": "failing-fifty",
   "metadata": {},
   "outputs": [],
   "source": [
    "df"
   ]
  },
  {
   "cell_type": "code",
   "execution_count": null,
   "id": "explicit-april",
   "metadata": {},
   "outputs": [],
   "source": [
    "df.exported[0]"
   ]
  },
  {
   "cell_type": "code",
   "execution_count": null,
   "id": "breathing-bernard",
   "metadata": {},
   "outputs": [],
   "source": [
    "df"
   ]
  },
  {
   "cell_type": "code",
   "execution_count": null,
   "id": "brave-elimination",
   "metadata": {
    "ExecuteTime": {
     "end_time": "2021-06-10T06:38:04.139084Z",
     "start_time": "2021-06-10T06:38:02.725614Z"
    }
   },
   "outputs": [],
   "source": [
    "df.std()"
   ]
  },
  {
   "cell_type": "code",
   "execution_count": null,
   "id": "sound-drunk",
   "metadata": {},
   "outputs": [],
   "source": []
  }
 ],
 "metadata": {
  "kernelspec": {
   "display_name": "Python 3",
   "language": "python",
   "name": "python3"
  },
  "language_info": {
   "codemirror_mode": {
    "name": "ipython",
    "version": 3
   },
   "file_extension": ".py",
   "mimetype": "text/x-python",
   "name": "python",
   "nbconvert_exporter": "python",
   "pygments_lexer": "ipython3",
   "version": "3.9.1"
  },
  "varInspector": {
   "cols": {
    "lenName": 16,
    "lenType": 16,
    "lenVar": 40
   },
   "kernels_config": {
    "python": {
     "delete_cmd_postfix": "",
     "delete_cmd_prefix": "del ",
     "library": "var_list.py",
     "varRefreshCmd": "print(var_dic_list())"
    },
    "r": {
     "delete_cmd_postfix": ") ",
     "delete_cmd_prefix": "rm(",
     "library": "var_list.r",
     "varRefreshCmd": "cat(var_dic_list()) "
    }
   },
   "types_to_exclude": [
    "module",
    "function",
    "builtin_function_or_method",
    "instance",
    "_Feature"
   ],
   "window_display": false
  }
 },
 "nbformat": 4,
 "nbformat_minor": 5
}
